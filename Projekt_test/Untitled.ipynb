{
 "cells": [
  {
   "cell_type": "code",
   "execution_count": 1,
   "metadata": {},
   "outputs": [
    {
     "name": "stderr",
     "output_type": "stream",
     "text": [
      "ERROR (theano.sandbox.cuda): nvcc compiler not found on $PATH. Check your nvcc installation and try again.\n"
     ]
    }
   ],
   "source": [
    "import os    \n",
    "os.environ['THEANO_FLAGS'] = \"device=gpu, floatX=float32\" \n",
    "import lasagne"
   ]
  },
  {
   "cell_type": "code",
   "execution_count": 2,
   "metadata": {},
   "outputs": [
    {
     "name": "stdout",
     "output_type": "stream",
     "text": [
      "gpu\n",
      "float32\n"
     ]
    }
   ],
   "source": [
    "from theano.tensor.signal.pool import pool_2d\n",
    "import theano\n",
    "import theano.tensor as T\n",
    "import numpy as np\n",
    "import sklearn.datasets\n",
    "from __future__ import print_function\n",
    "import os\n",
    "import matplotlib.pyplot as plt\n",
    "%matplotlib inline\n",
    "import IPython.display\n",
    "print(theano.config.device)\n",
    "print(theano.config.floatX)"
   ]
  },
  {
   "cell_type": "code",
   "execution_count": 3,
   "metadata": {},
   "outputs": [
    {
     "name": "stdout",
     "output_type": "stream",
     "text": [
      "a\n",
      "b\n",
      "Data has apparently already been downloaded and unpacked.\n",
      "c\n",
      "Loading data: data/CIFAR-10/cifar-10-batches-py/batches.meta\n"
     ]
    },
    {
     "data": {
      "text/plain": [
       "[u'airplane',\n",
       " u'automobile',\n",
       " u'bird',\n",
       " u'cat',\n",
       " u'deer',\n",
       " u'dog',\n",
       " u'frog',\n",
       " u'horse',\n",
       " u'ship',\n",
       " u'truck']"
      ]
     },
     "execution_count": 3,
     "metadata": {},
     "output_type": "execute_result"
    }
   ],
   "source": [
    "print('a')\n",
    "import cifar10\n",
    "print ('b')\n",
    "cifar10.maybe_download_and_extract()\n",
    "print('c')\n",
    "class_names = cifar10.load_class_names()\n",
    "class_names"
   ]
  },
  {
   "cell_type": "code",
   "execution_count": 4,
   "metadata": {},
   "outputs": [
    {
     "name": "stdout",
     "output_type": "stream",
     "text": [
      "Loading data: data/CIFAR-10/cifar-10-batches-py/data_batch_1\n",
      "Loading data: data/CIFAR-10/cifar-10-batches-py/data_batch_2\n",
      "Loading data: data/CIFAR-10/cifar-10-batches-py/data_batch_3\n",
      "Loading data: data/CIFAR-10/cifar-10-batches-py/data_batch_4\n",
      "Loading data: data/CIFAR-10/cifar-10-batches-py/data_batch_5\n"
     ]
    }
   ],
   "source": [
    "X_train, y_train, labels_train = cifar10.load_training_data()"
   ]
  },
  {
   "cell_type": "code",
   "execution_count": 5,
   "metadata": {},
   "outputs": [
    {
     "name": "stdout",
     "output_type": "stream",
     "text": [
      "Loading data: data/CIFAR-10/cifar-10-batches-py/test_batch\n"
     ]
    }
   ],
   "source": [
    "X_test, y_test, labels_test = cifar10.load_test_data()"
   ]
  },
  {
   "cell_type": "code",
   "execution_count": 6,
   "metadata": {},
   "outputs": [
    {
     "name": "stdout",
     "output_type": "stream",
     "text": [
      "Size of:\n",
      "- Training-set:\t\t50000\n",
      "- Test-set:\t\t10000\n"
     ]
    }
   ],
   "source": [
    "print(\"Size of:\")\n",
    "print(\"- Training-set:\\t\\t{}\".format(len(X_train)))\n",
    "print(\"- Test-set:\\t\\t{}\".format(len(X_test)))"
   ]
  },
  {
   "cell_type": "code",
   "execution_count": 7,
   "metadata": {},
   "outputs": [
    {
     "data": {
      "text/plain": [
       "(3L, 32L, 32L)"
      ]
     },
     "execution_count": 7,
     "metadata": {},
     "output_type": "execute_result"
    }
   ],
   "source": [
    "X_test[0].shape\n",
    "np.zeros((3, 32, 32)).shape"
   ]
  },
  {
   "cell_type": "code",
   "execution_count": 8,
   "metadata": {
    "collapsed": true
   },
   "outputs": [],
   "source": [
    "temp = np.einsum('ijkl->iljk', X_train)"
   ]
  },
  {
   "cell_type": "code",
   "execution_count": 9,
   "metadata": {},
   "outputs": [
    {
     "data": {
      "image/png": "[encoded data removed]",
      "text/plain": [
       "<matplotlib.figure.Figure at 0x99549b0>"
      ]
     },
     "metadata": {},
     "output_type": "display_data"
    }
   ],
   "source": [
    "plt.imshow(temp[1][0][:][:], interpolation='nearest', cmap=plt.cm.gray)\n",
    "#plt.title(\"Label: {}\".format(dataset['train']['y'][0]))\n",
    "plt.gca().set_axis_off()"
   ]
  },
  {
   "cell_type": "code",
   "execution_count": 10,
   "metadata": {},
   "outputs": [
    {
     "data": {
      "image/png": "[encoded data removed]",
      "text/plain": [
       "<matplotlib.figure.Figure at 0xb0ac400>"
      ]
     },
     "metadata": {},
     "output_type": "display_data"
    }
   ],
   "source": [
    "plt.imshow(X_train[1][:][:], interpolation='nearest', cmap=plt.cm.gray)\n",
    "plt.title(\"Label: {}\".format(y_train[1]))\n",
    "plt.gca().set_axis_off()"
   ]
  },
  {
   "cell_type": "code",
   "execution_count": 11,
   "metadata": {
    "collapsed": true
   },
   "outputs": [],
   "source": [
    "X_train = np.einsum('ijkl->iljk', X_train)\n",
    "X_train = X_train.astype(theano.config.floatX)"
   ]
  },
  {
   "cell_type": "code",
   "execution_count": 12,
   "metadata": {
    "collapsed": true
   },
   "outputs": [],
   "source": [
    "X_test = np.einsum('ijkl->iljk', X_test)\n",
    "X_test = X_test.astype(theano.config.floatX)"
   ]
  },
  {
   "cell_type": "code",
   "execution_count": 13,
   "metadata": {},
   "outputs": [
    {
     "data": {
      "text/plain": [
       "40000"
      ]
     },
     "execution_count": 13,
     "metadata": {},
     "output_type": "execute_result"
    }
   ],
   "source": [
    "X_train, X_val = X_train[:-10000], X_train[-10000:]\n",
    "y_train, y_val = y_train[:-10000], y_train[-10000:]\n",
    "len(X_train)"
   ]
  },
  {
   "cell_type": "code",
   "execution_count": 14,
   "metadata": {
    "collapsed": true
   },
   "outputs": [],
   "source": [
    "#############################"
   ]
  },
  {
   "cell_type": "code",
   "execution_count": 36,
   "metadata": {},
   "outputs": [],
   "source": [
    "input_shape = X_train.shape\n",
    "input_layer = lasagne.layers.InputLayer(\n",
    "    shape=(None, input_shape[1], input_shape[2], input_shape[3])) ## None bo nie wiem ile będzie obrazkow"
   ]
  },
  {
   "cell_type": "code",
   "execution_count": 48,
   "metadata": {
    "collapsed": true
   },
   "outputs": [],
   "source": [
    "convolutional_layer = lasagne.layers.Conv2DLayer(\n",
    "    input_layer, \n",
    "    num_filters=12,\n",
    "    filter_size=(5, 5),\n",
    "    nonlinearity=lasagne.nonlinearities.rectify, \n",
    "    W=lasagne.init.HeNormal(gain='relu'))\n",
    "#mozna ustawic krok filtru(stride) An integer or a 2-element tuple specifying the stride of the convolution operation.\n",
    "# dorzucanie 0 na brzegach pad (int, iterable of int, ‘full’, ‘same’ or ‘valid’ (default: 0))"
   ]
  },
  {
   "cell_type": "code",
   "execution_count": 49,
   "metadata": {
    "collapsed": true
   },
   "outputs": [],
   "source": [
    "pooling_layer = lasagne.layers.MaxPool2DLayer(\n",
    "    convolutional_layer, \n",
    "    pool_size=(2, 2))\n",
    "#stride, pad, ignore border"
   ]
  },
  {
   "cell_type": "code",
   "execution_count": 50,
   "metadata": {
    "collapsed": true
   },
   "outputs": [],
   "source": [
    "dropout_layer = lasagne.layers.DropoutLayer(\n",
    "    pooling_layer,\n",
    "    p=0.3)"
   ]
  },
  {
   "cell_type": "code",
   "execution_count": 51,
   "metadata": {
    "collapsed": true
   },
   "outputs": [],
   "source": [
    "dense_layer = lasagne.layers.DenseLayer(\n",
    "    dropout_layer, \n",
    "    num_units=1024,###################\n",
    "    nonlinearity=lasagne.nonlinearities.rectify,\n",
    "    W=lasagne.init.HeNormal(gain='relu'))"
   ]
  },
  {
   "cell_type": "code",
   "execution_count": 52,
   "metadata": {
    "collapsed": true
   },
   "outputs": [],
   "source": [
    "dropout_layer2 = lasagne.layers.DropoutLayer(\n",
    "    dense_layer,\n",
    "    p=0.5)"
   ]
  },
  {
   "cell_type": "code",
   "execution_count": 53,
   "metadata": {
    "collapsed": true
   },
   "outputs": [],
   "source": [
    "dense_layer2 = lasagne.layers.DenseLayer(\n",
    "    dropout_layer2, \n",
    "    num_units=512,###################\n",
    "    nonlinearity=lasagne.nonlinearities.rectify,\n",
    "    W=lasagne.init.HeNormal(gain='relu'))"
   ]
  },
  {
   "cell_type": "code",
   "execution_count": 54,
   "metadata": {
    "collapsed": true
   },
   "outputs": [],
   "source": [
    "dropout_layer3 = lasagne.layers.DropoutLayer(\n",
    "    dense_layer2,\n",
    "    p=0.5)"
   ]
  },
  {
   "cell_type": "code",
   "execution_count": 55,
   "metadata": {
    "collapsed": true
   },
   "outputs": [],
   "source": [
    "dense_layer3 = lasagne.layers.DenseLayer(\n",
    "    dropout_layer3, \n",
    "    num_units=256,###################\n",
    "    nonlinearity=lasagne.nonlinearities.rectify,\n",
    "    W=lasagne.init.HeNormal(gain='relu'))"
   ]
  },
  {
   "cell_type": "code",
   "execution_count": 56,
   "metadata": {
    "collapsed": true
   },
   "outputs": [],
   "source": [
    "dropout_layer4 = lasagne.layers.DropoutLayer(\n",
    "    dense_layer3,\n",
    "    p=0.5)"
   ]
  },
  {
   "cell_type": "code",
   "execution_count": 57,
   "metadata": {
    "collapsed": true
   },
   "outputs": [],
   "source": [
    "output_layer = lasagne.layers.DenseLayer(\n",
    "    dropout_layer4,\n",
    "    num_units=10,\n",
    "    nonlinearity=lasagne.nonlinearities.softmax)"
   ]
  },
  {
   "cell_type": "code",
   "execution_count": null,
   "metadata": {},
   "outputs": [],
   "source": [
    "true_output = T.ivector('true_output')\n",
    "loss_train = lasagne.objectives.categorical_crossentropy(\n",
    "    lasagne.layers.get_output(output_layer),\n",
    "        true_output).mean()#crossentropy do softmaxu\n",
    "all_params = lasagne.layers.get_all_params(output_layer)\n",
    "updates = lasagne.updates.adadelta(loss_train, all_params)################# Use ADADELTA for updates\n",
    "train = theano.function([input_layer.input_var, true_output], loss_train, updates=updates)#wejscie, wyjscie, updaty\n",
    "get_output = theano.function([input_layer.input_var], lasagne.layers.get_output(output_layer))"
   ]
  },
  {
   "cell_type": "code",
   "execution_count": null,
   "metadata": {},
   "outputs": [
    {
     "name": "stdout",
     "output_type": "stream",
     "text": [
      "10000 40000\n",
      "20000 40000\n",
      "30000 40000\n",
      "40000 40000\n",
      "Epoch 1 validation accuracy: 0.3725\n",
      "10000 40000\n",
      "20000 40000\n",
      "30000 40000\n",
      "40000 40000\n",
      "Epoch 2 validation accuracy: 0.4084\n",
      "10000 40000\n",
      "20000 40000\n",
      "30000 40000\n",
      "40000 40000\n",
      "Epoch 3 validation accuracy: 0.4593\n",
      "10000 40000\n",
      "20000 40000\n",
      "30000 40000\n",
      "40000 40000\n",
      "Epoch 4 validation accuracy: 0.4241\n",
      "10000 40000\n",
      "20000 40000\n",
      "30000 40000\n",
      "40000 40000\n",
      "Epoch 5 validation accuracy: 0.4862\n",
      "10000 40000\n",
      "20000 40000\n",
      "30000 40000\n",
      "40000 40000\n",
      "Epoch 6 validation accuracy: 0.4851\n",
      "10000 40000\n",
      "20000 40000\n",
      "30000 40000\n"
     ]
    }
   ],
   "source": [
    "batch_size = 50\n",
    "number_of_epochs = 100\n",
    "batch_start = 0\n",
    "current_epoch = 0\n",
    "while current_epoch < number_of_epochs:\n",
    "    train(X_train[batch_start:batch_start + batch_size],\n",
    "        y_train[batch_start:batch_start + batch_size])\n",
    "    batch_start += batch_size\n",
    "    if (batch_start%10000 == 0):\n",
    "        print(batch_start, len(X_train))\n",
    "    if batch_start >= len(X_train):\n",
    "        batch_start = 0\n",
    "        current_epoch += 1\n",
    "        val_output = get_output(X_val)\n",
    "        val_predictions = np.argmax(val_output, axis=1)\n",
    "        accuracy = np.mean(val_predictions == y_val)\n",
    "        print(\"Epoch {} validation accuracy: {}\".format(current_epoch, accuracy))"
   ]
  },
  {
   "cell_type": "code",
   "execution_count": null,
   "metadata": {
    "collapsed": true
   },
   "outputs": [],
   "source": [
    "print(X_val.shape)\n",
    "print(X_test.shape)\n",
    "val_output = get_output(X_test)\n",
    "# The predicted class is just the index of the largest probability in the output\n",
    "val_predictions = np.argmax(val_output, axis=1)\n",
    "# The accuracy is the average number of correct predictions\n",
    "accuracy = np.mean(val_predictions == y_test)\n",
    "print(\"Test accuracy: {}\".format(accuracy))"
   ]
  },
  {
   "cell_type": "code",
   "execution_count": null,
   "metadata": {
    "collapsed": true
   },
   "outputs": [],
   "source": []
  }
 ],
 "metadata": {
  "kernelspec": {
   "display_name": "Python 2",
   "language": "python",
   "name": "python2"
  },
  "language_info": {
   "codemirror_mode": {
    "name": "ipython",
    "version": 2
   },
   "file_extension": ".py",
   "mimetype": "text/x-python",
   "name": "python",
   "nbconvert_exporter": "python",
   "pygments_lexer": "ipython2",
   "version": "2.7.13"
  }
 },
 "nbformat": 4,
 "nbformat_minor": 2
}
